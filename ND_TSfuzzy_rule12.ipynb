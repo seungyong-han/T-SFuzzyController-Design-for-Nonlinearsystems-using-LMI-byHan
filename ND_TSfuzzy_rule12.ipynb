{
  "nbformat": 4,
  "nbformat_minor": 0,
  "metadata": {
    "colab": {
      "provenance": []
    },
    "kernelspec": {
      "name": "python3",
      "display_name": "Python 3"
    },
    "language_info": {
      "name": "python"
    }
  },
  "cells": [
    {
      "cell_type": "code",
      "execution_count": 52,
      "metadata": {
        "id": "92hM27dZTcF_"
      },
      "outputs": [],
      "source": [
        "import cvxpy as cp\n",
        "import numpy as np\n",
        "\n",
        "# given parameters\n",
        "a = 1.4  # x1 \in [-a a]\n",
        "b = 0.7 # x3 \in [-b b]\n",
        "Premise_var_x1 = np.array([[0, a/2, a]]) # only >= 0 value\n",
        "Premise_var_x3 = np.array([[-b, -b/2, b/2, b]]) # positive and negative of b are important \n",
        "\n",
        "n_r = np.size(Premise_var_x1)*np.size(Premise_var_x3)  # number of rules\n",
        "n_s = 4  # size of A{i}\n",
        "n_u = 1  # size of B{i}\n",
        "\n",
        
        "A = []\n",
        "B = []\n",
        "\n",
        "A = []\n",
        "for i in range(np.size(Premise_var_x1)):\n",
        "  for j in range(np.size(Premise_var_x3)):\n",
        "    x1 = Premise_var_x1[0,i]\n",
        "    x3 = Premise_var_x3[0,j]\n",
        "\n",
        "    A13 = np.sin(x3)/x3\n",
        "    A31 = x1**2\n",
        "    A43 = np.sin(x3)/x3\n",
        "    B11 = x1**2\n",
        "    A.append(np.array([[1, 1, A13, -0.1],\n",
        "                   [1, -2, 0, 0],\n",
        "                   [1, A31, -0.3, 0],\n",
        "                   [0, 0, A43, -1]]))\n",
        "    B.append(np.array([[1+B11],\n",
        "                   [0],\n",
        "                   [0],\n",
        "                   [0]]))\n",
        "\n",
        "# LMI decision variables \n",
        "Q = cp.Variable((n_s, n_s), symmetric=True)\n",
        "Y = [cp.Variable((n_u, n_s)) for _ in range(n_r)]\n",
        "I = np.identity(n_s)\n",
        "#gamma = cp.Variable((1, 1))\n",
        "# LMI constraints\n",
        "constraints = []\n"
      ]
    },
    {
      "cell_type": "code",
      "source": [
        "\n",
        "# LMI_total_c1 constraints for all i\n",
        "for i in range(n_r):\n",
        "    Ai = A[i]\n",
        "    Bi = B[i]\n",
        "    constraints.append((Ai @ Q + Q @ Ai.T + Bi @ Y[i] + Y[i].T @ Bi.T) << 0)\n",
        "\n",
        "# LMI_total_c2 constraints\n",
        "# LMI for stabilization of each sub system\n",
        "for j in range(1, n_r):\n",
        "    Ai = A[0]\n",
        "    Aj = A[j]\n",
        "    Bi = B[0]\n",
        "    Bj = B[j]\n",
        "    constraint_lhs = (Ai @ Q + Q @ Ai.T + Bi @ Y[j] + Y[j].T @ Bi.T) / 2\n",
        "    constraint_rhs = (Aj @ Q + Q @ Aj.T + Bj @ Y[0] + Y[0].T @ Bj.T) / 2\n",
        "    constraints.append(constraint_lhs + constraint_rhs << 0)\n",
        "\n",
        "# # LMI for stabilization of joint systems\n",
        "for j in range(2, n_r):\n",
        "    Ai = A[1]\n",
        "    Aj = A[j]\n",
        "    Bi = B[1]\n",
        "    Bj = B[j]\n",
        "    constraint_lhs = (Ai @ Q + Q @ Ai.T + Bi @ Y[j] + Y[j].T @ Bi.T) / 2\n",
        "    constraint_rhs = (Aj @ Q + Q @ Aj.T + Bj @ Y[1] + Y[1].T @ Bj.T) / 2\n",
        "    constraints.append(constraint_lhs + constraint_rhs << 0)\n",
        "\n",
        "# # LMI for stabilization of joint systems\n",
        "for j in range(3, n_r):\n",
        "    Ai = A[2]\n",
        "    Aj = A[j]\n",
        "    Bi = B[2]\n",
        "    Bj = B[j]\n",
        "    constraint_lhs = (Ai @ Q + Q @ Ai.T + Bi @ Y[j] + Y[j].T @ Bi.T) / 2\n",
        "    constraint_rhs = (Aj @ Q + Q @ Aj.T + Bj @ Y[2] + Y[2].T @ Bj.T) / 2\n",
        "    constraints.append(constraint_lhs + constraint_rhs << 0)\n",
        "\n",
        "# Positive semidefinite constraint on Q\n",
        "constraints.append(Q - 0.1*I>> 0)\n",
        "#constraints.append(gamma >> 0)\n",
        "# solve SDP problem \n",
        "problem = cp.Problem(cp.Minimize(0), constraints)\n",
        "print(problem.is_qp())\n",
        "problem.solve(verbose = True)  # You can choose "SCS" solver\n",
        "\n",
        
        "ch = [c.dual_value for c in constraints]\n",
        "\n",
        "K = [Y[i].value @ np.linalg.inv(Q.value) for i in range(n_r)]\n",
        "\n",
        "for i in range(n_r):\n",
        "  print(f'K{{{i+1}}}=', K[i])\n"
      ],
      "metadata": {
        "colab": {
          "base_uri": "https://localhost:8080/"
        },
        "id": "_2s3GtWYlAoN",
        "outputId": "f37ce1bf-d7a2-4abc-901f-c05ed60d0ffe"
      },
      "execution_count": 83,
      "outputs": [
        {
          "output_type": "stream",
          "name": "stdout",
          "text": [
            "True\n",
            "===============================================================================\n",
            "                                     CVXPY                                     \n",
            "                                     v1.5.2                                    \n",
            "===============================================================================\n",
            "(CVXPY) Aug 11 01:46:10 PM: Your problem has 64 variables, 8944 constraints, and 0 parameters.\n",
            "(CVXPY) Aug 11 01:46:10 PM: It is compliant with the following grammars: DCP, DQCP\n",
            "(CVXPY) Aug 11 01:46:10 PM: (If you need to solve this problem multiple times, but with different data, consider using parameters.)\n",
            "(CVXPY) Aug 11 01:46:10 PM: CVXPY will first compile your problem; then, it will invoke a numerical solver to obtain a solution.\n",
            "(CVXPY) Aug 11 01:46:10 PM: Your problem is compiled with the CPP canonicalization backend.\n",
            "-------------------------------------------------------------------------------\n",
            "                                  Compilation                                  \n",
            "-------------------------------------------------------------------------------\n",
            "(CVXPY) Aug 11 01:46:10 PM: Compiling problem (target solver=SCS).\n",
            "(CVXPY) Aug 11 01:46:10 PM: Reduction chain: Dcp2Cone -> CvxAttr2Constr -> ConeMatrixStuffing -> SCS\n",
            "(CVXPY) Aug 11 01:46:10 PM: Applying reduction Dcp2Cone\n",
            "(CVXPY) Aug 11 01:46:11 PM: Applying reduction CvxAttr2Constr\n",
            "(CVXPY) Aug 11 01:46:11 PM: Applying reduction ConeMatrixStuffing\n",
            "(CVXPY) Aug 11 01:46:12 PM: Applying reduction SCS\n",
            "(CVXPY) Aug 11 01:46:12 PM: Finished problem compilation (took 1.839e+00 seconds).\n",
            "-------------------------------------------------------------------------------\n",
            "                                Numerical solver                               \n",
            "-------------------------------------------------------------------------------\n",
            "(CVXPY) Aug 11 01:46:12 PM: Invoking solver SCS  to obtain a solution.\n",
            "------------------------------------------------------------------\n",
            "\t       SCS v3.2.6 - Splitting Conic Solver\n",
            "\t(c) Brendan O'Donoghue, Stanford University, 2012\n",
            "------------------------------------------------------------------\n",
            "problem:  variables n: 58, constraints m: 5590\n",
            "cones: \t  s: psd vars: 5590, ssize: 559\n",
            "settings: eps_abs: 1.0e-05, eps_rel: 1.0e-05, eps_infeas: 1.0e-07\n",
            "\t  alpha: 1.50, scale: 1.00e-01, adaptive_scale: 1\n",
            "\t  max_iters: 100000, normalize: 1, rho_x: 1.00e-06\n",
            "\t  acceleration_lookback: 10, acceleration_interval: 10\n",
            "lin-sys:  sparse-direct-amd-qdldl\n",
            "\t  nnz(A): 23556, nnz(P): 0\n",
            "------------------------------------------------------------------\n",
            " iter | pri res | dua res |   gap   |   obj   |  scale  | time (s)\n",
            "------------------------------------------------------------------\n",
            "     0| 9.36e-02  6.08e-01  6.70e-02  3.35e-02  1.00e-01  3.96e-02 \n",
            "    50| 5.80e-12  8.59e-15  4.68e-16  2.34e-16  1.00e-01  1.61e-01 \n",
            "------------------------------------------------------------------\n",
            "status:  solved\n",
            "timings: total: 1.62e-01s = setup: 1.23e-02s + solve: 1.49e-01s\n",
            "\t lin-sys: 6.83e-03s, cones: 1.14e-01s, accel: 4.01e-04s\n",
            "------------------------------------------------------------------\n",
            "objective = 0.000000\n",
            "------------------------------------------------------------------\n",
            "-------------------------------------------------------------------------------\n",
            "                                    Summary                                    \n",
            "-------------------------------------------------------------------------------\n",
            "(CVXPY) Aug 11 01:46:12 PM: Problem status: optimal\n",
            "(CVXPY) Aug 11 01:46:12 PM: Optimal value: 0.000e+00\n",
            "(CVXPY) Aug 11 01:46:12 PM: Compilation took 1.839e+00 seconds\n",
            "(CVXPY) Aug 11 01:46:12 PM: Solver (including time spent in interface) took 2.151e-01 seconds\n",
            "K{1}= [[-1.32917195 -2.76154173 -2.56703181  0.42378244]]\n",
            "K{2}= [[-1.34340337 -2.73687678 -2.60494711  0.40034077]]\n",
            "K{3}= [[-1.34340337 -2.73687678 -2.60494711  0.40034077]]\n",
            "K{4}= [[-1.31834486 -3.75673021 -3.21218563  0.72266578]]\n",
            "K{5}= [[-0.89800759 -2.43220558 -2.15645429  0.49362814]]\n",
            "K{6}= [[-0.89611137 -2.4212017  -2.19928298  0.51755707]]\n",
            "K{7}= [[-0.89611137 -2.4212017  -2.19928298  0.51755707]]\n",
            "K{8}= [[-0.89800759 -2.43220558 -2.15645429  0.49362814]]\n",
            "K{9}= [[-0.42260042 -1.0382448  -1.08037547  0.24956538]]\n",
            "K{10}= [[-0.42299112 -1.04067044 -1.10125     0.24208813]]\n",
            "K{11}= [[-0.42299112 -1.04067044 -1.10125     0.24208813]]\n",
            "K{12}= [[-0.42260042 -1.0382448  -1.08037547  0.24956538]]\n"
          ]
        }
      ]
    },
    {
      "cell_type": "code",
      "source": [],
      "metadata": {
        "colab": {
          "base_uri": "https://localhost:8080/"
        },
        "id": "o9DCATvYauxe",
        "outputId": "8e550429-ac03-4455-8a98-b7e04593ab0f"
      },
      "execution_count": 77,
      "outputs": [
        {
          "output_type": "stream",
          "name": "stdout",
          "text": [
            "{}\n"
          ]
        }
      ]
    }
  ]
}
